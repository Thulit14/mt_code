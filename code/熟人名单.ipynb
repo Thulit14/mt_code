import numpy as np
import pandas as pd
import toad
from pyspark.sql import functions as f
import os
os.getcwd()
1
